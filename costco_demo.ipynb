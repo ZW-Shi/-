{
  "nbformat": 4,
  "nbformat_minor": 0,
  "metadata": {
    "colab": {
      "name": "costco_demo.ipynb",
      "provenance": [],
      "toc_visible": true,
      "gpuType": "T4",
      "include_colab_link": true
    },
    "kernelspec": {
      "name": "python2",
      "display_name": "Python 2"
    },
    "accelerator": "GPU"
  },
  "cells": [
    {
      "cell_type": "markdown",
      "metadata": {
        "id": "view-in-github",
        "colab_type": "text"
      },
      "source": [
        "<a href=\"https://colab.research.google.com/github/ZW-Shi/-/blob/master/costco_demo.ipynb\" target=\"_parent\"><img src=\"https://colab.research.google.com/assets/colab-badge.svg\" alt=\"Open In Colab\"/></a>"
      ]
    },
    {
      "cell_type": "markdown",
      "metadata": {
        "id": "PJRhgXMRZJMa"
      },
      "source": [
        "# Imports"
      ]
    },
    {
      "cell_type": "code",
      "metadata": {
        "id": "GMZej76fZPqZ"
      },
      "source": [
        "import os\n",
        "import json\n",
        "import urllib.request as urllib2\n",
        "#import urllib2\n",
        "import zipfile\n",
        "from pprint import pprint\n",
        "\n",
        "import numpy as np\n",
        "import tensorflow as tf\n",
        "import keras as k"
      ],
      "execution_count": 50,
      "outputs": []
    },
    {
      "cell_type": "markdown",
      "metadata": {
        "id": "jHGhMhifVRNo"
      },
      "source": [
        "# Load data"
      ]
    },
    {
      "cell_type": "code",
      "metadata": {
        "id": "kueTfyY3Yht2"
      },
      "source": [
        "data_folder = 'data'\n",
        "\n",
        "if not os.path.exists(data_folder):\n",
        "  url = 'https://github.com/USC-Melady/KDD19-CoSTCo/releases/download/demo_data/data.zip'\n",
        "  filedata = urllib2.urlopen(url)\n",
        "\n",
        "  with open('data.zip', 'wb') as f:\n",
        "      f.write(filedata.read())\n",
        "\n",
        "  with zipfile.ZipFile('data.zip', 'r') as f:\n",
        "    f.extractall('.')"
      ],
      "execution_count": 51,
      "outputs": []
    },
    {
      "cell_type": "code",
      "metadata": {
        "id": "-Ilig1cCVRNp"
      },
      "source": [
        "shape = np.loadtxt(os.path.join(data_folder, 'tensor_shape.txt')).astype(int)\n",
        "tr_idxs = np.loadtxt(os.path.join(data_folder, 'train_indices.txt')).astype(int)\n",
        "tr_vals = np.loadtxt(os.path.join(data_folder, 'train_values.txt'))\n",
        "te_idxs = np.loadtxt(os.path.join(data_folder, 'test_indices.txt')).astype(int)\n",
        "te_vals = np.loadtxt(os.path.join(data_folder, 'test_values.txt'))"
      ],
      "execution_count": 52,
      "outputs": []
    },
    {
      "cell_type": "markdown",
      "metadata": {
        "id": "AB4BuZRbVRNY"
      },
      "source": [
        "# Define util functions"
      ]
    },
    {
      "cell_type": "code",
      "metadata": {
        "id": "4MmoK-zQVRNZ"
      },
      "source": [
        "def mape_keras(y_true, y_pred, threshold=0.1):\n",
        "    v = k.backend.clip(k.backend.abs(y_true), threshold, None)\n",
        "    diff = k.backend.abs((y_true - y_pred) / v)\n",
        "    return 100.0 * k.backend.mean(diff, axis=-1)\n",
        "\n",
        "def mae(y_true, y_pred):\n",
        "    return np.mean(np.abs(y_pred - y_true))\n",
        "\n",
        "def rmse(y_true, y_pred):\n",
        "    return np.sqrt(np.mean(np.square(y_pred - y_true)))\n",
        "\n",
        "def mape(y_true, y_pred, threshold=0.1):\n",
        "    v = np.clip(np.abs(y_true), threshold, None)\n",
        "    diff = np.abs((y_true - y_pred) / v)\n",
        "    return 100.0 * np.mean(diff, axis=-1).mean()\n",
        "\n",
        "def transform(idxs):\n",
        "    return [idxs[:, i] for i in range(idxs.shape[1])]\n",
        "\n",
        "def set_session(device_count=None, seed=0):\n",
        "    #gpu_options = tf.GPUOptions(allow_growth=True)\n",
        "    gpu_options = tf.compat.v1.GPUOptions(per_process_gpu_memory_fraction=1)\n",
        "    if device_count is not None:\n",
        "        config = tf.compat.v1.ConfigProto(\n",
        "            gpu_options=gpu_options,\n",
        "            device_count=device_count\n",
        "        )\n",
        "    else:\n",
        "        config = tf.compat.v1.ConfigProto(gpu_options=gpu_options)\n",
        "    sess = tf.compat.v1.Session(config=config)\n",
        "    tf.compat.v1.keras.backend.set_session(sess)\n",
        "\n",
        "    np.random.seed(seed)\n",
        "    tf.compat.v1.set_random_seed(seed)\n",
        "    return sess\n",
        "\n",
        "def get_metrics(model, x, y, batch_size=1024):\n",
        "    yp = model.predict(x, batch_size=batch_size, verbose=1).flatten()\n",
        "    return {\n",
        "        \"rmse\": float(rmse(y, yp)),\n",
        "        \"mape\": float(mape(y, yp)),\n",
        "        \"mae\": float(mae(y, yp))\n",
        "    }"
      ],
      "execution_count": 53,
      "outputs": []
    },
    {
      "cell_type": "markdown",
      "metadata": {
        "id": "Xim4s-ziVRNg"
      },
      "source": [
        "# Create a CoSTCo model"
      ]
    },
    {
      "cell_type": "code",
      "metadata": {
        "id": "Ci6JG9m9VRNh"
      },
      "source": [
        "def create_costco(shape, rank, nc):\n",
        "    inputs = [k.Input(shape=(1,), dtype=\"int32\") for i in range(len(shape))]\n",
        "    embeds = [\n",
        "        k.layers.Embedding(output_dim=rank, input_dim=shape[i])(inputs[i])\n",
        "        for i in range(len(shape))\n",
        "    ]\n",
        "    x = k.layers.Concatenate(axis=1)(embeds)\n",
        "    x = k.layers.Reshape(target_shape=(rank, len(shape), 1))(x)\n",
        "    x = k.layers.Conv2D(\n",
        "        nc,\n",
        "        kernel_size=(1, len(shape)),\n",
        "        activation=\"relu\",\n",
        "        padding=\"valid\"\n",
        "    )(x)\n",
        "    x = k.layers.Conv2D(\n",
        "        nc,\n",
        "        kernel_size=(rank, 1),\n",
        "        activation=\"relu\",\n",
        "        padding=\"valid\"\n",
        "    )(x)\n",
        "    x = k.layers.Flatten()(x)\n",
        "    x = k.layers.Dense(nc, activation=\"relu\")(x)\n",
        "    outputs = k.layers.Dense(1, activation=\"relu\")(x)\n",
        "    model = k.Model(inputs=inputs, outputs=outputs)\n",
        "\n",
        "    return model"
      ],
      "execution_count": 54,
      "outputs": []
    },
    {
      "cell_type": "markdown",
      "metadata": {
        "id": "eQ_cVComVRNk"
      },
      "source": [
        "# Set hyper-parameters"
      ]
    },
    {
      "cell_type": "code",
      "metadata": {
        "id": "ZsdsNRmEVRNl"
      },
      "source": [
        "lr = 1e-4\n",
        "rank = 20\n",
        "nc = rank\n",
        "epochs = 50\n",
        "batch_size = 256\n",
        "\n",
        "seed = 3\n",
        "verbose = 1"
      ],
      "execution_count": 55,
      "outputs": []
    },
    {
      "cell_type": "markdown",
      "metadata": {
        "id": "6lQi9W2OVRNr"
      },
      "source": [
        "# Train with early stopping"
      ]
    },
    {
      "cell_type": "code",
      "metadata": {
        "id": "JzRKa3PvVRNs",
        "colab": {
          "base_uri": "https://localhost:8080/"
        },
        "outputId": "a183c90a-c667-4700-a376-ce4089f27c5e"
      },
      "source": [
        "set_session(device_count={\"GPU\": 0}, seed=seed)\n",
        "optim = k.optimizers.Adam(learning_rate=lr)\n",
        "\n",
        "model = create_costco(shape, rank, nc)\n",
        "model.compile(optim, loss=[\"mse\"], metrics=[\"mae\", mape_keras])\n",
        "hists = model.fit(\n",
        "    x=transform(tr_idxs),\n",
        "    y=tr_vals,\n",
        "    verbose=verbose,\n",
        "    epochs=epochs,\n",
        "    batch_size=batch_size,\n",
        "    validation_split=0.1,\n",
        "    callbacks=[k.callbacks.EarlyStopping(\n",
        "        monitor=\"val_mean_absolute_error\",\n",
        "        patience=10,\n",
        "        restore_best_weights=True)],\n",
        ");"
      ],
      "execution_count": 56,
      "outputs": [
        {
          "output_type": "stream",
          "name": "stdout",
          "text": [
            "Epoch 1/50\n",
            "298/298 [==============================] - ETA: 0s - loss: 0.0299 - mae: 0.0995 - mape_keras: 57.1360"
          ]
        },
        {
          "output_type": "stream",
          "name": "stderr",
          "text": [
            "WARNING:tensorflow:Early stopping conditioned on metric `val_mean_absolute_error` which is not available. Available metrics are: loss,mae,mape_keras,val_loss,val_mae,val_mape_keras\n"
          ]
        },
        {
          "output_type": "stream",
          "name": "stdout",
          "text": [
            "\b\b\b\b\b\b\b\b\b\b\b\b\b\b\b\b\b\b\b\b\b\b\b\b\b\b\b\b\b\b\b\b\b\b\b\b\b\b\b\b\b\b\b\b\b\b\b\b\b\b\b\b\b\b\b\b\b\b\b\b\b\b\b\b\b\b\b\b\b\b\b\b\b\b\b\b\b\b\b\b\b\b\b\b\b\b\b\b\b\b\b\b\b\b\b\b\b\b\b\b\b\r298/298 [==============================] - 22s 50ms/step - loss: 0.0299 - mae: 0.0995 - mape_keras: 57.1360 - val_loss: 0.0247 - val_mae: 0.0909 - val_mape_keras: 54.9137\n",
            "Epoch 2/50\n",
            "298/298 [==============================] - ETA: 0s - loss: 0.0242 - mae: 0.0896 - mape_keras: 54.2200"
          ]
        },
        {
          "output_type": "stream",
          "name": "stderr",
          "text": [
            "WARNING:tensorflow:Early stopping conditioned on metric `val_mean_absolute_error` which is not available. Available metrics are: loss,mae,mape_keras,val_loss,val_mae,val_mape_keras\n"
          ]
        },
        {
          "output_type": "stream",
          "name": "stdout",
          "text": [
            "\b\b\b\b\b\b\b\b\b\b\b\b\b\b\b\b\b\b\b\b\b\b\b\b\b\b\b\b\b\b\b\b\b\b\b\b\b\b\b\b\b\b\b\b\b\b\b\b\b\b\b\b\b\b\b\b\b\b\b\b\b\b\b\b\b\b\b\b\b\b\b\b\b\b\b\b\b\b\b\b\b\b\b\b\b\b\b\b\b\b\b\b\b\b\b\b\b\b\b\b\b\r298/298 [==============================] - 3s 10ms/step - loss: 0.0242 - mae: 0.0896 - mape_keras: 54.2200 - val_loss: 0.0239 - val_mae: 0.0889 - val_mape_keras: 54.2757\n",
            "Epoch 3/50\n",
            "298/298 [==============================] - ETA: 0s - loss: 0.0228 - mae: 0.0848 - mape_keras: 51.1008"
          ]
        },
        {
          "output_type": "stream",
          "name": "stderr",
          "text": [
            "WARNING:tensorflow:Early stopping conditioned on metric `val_mean_absolute_error` which is not available. Available metrics are: loss,mae,mape_keras,val_loss,val_mae,val_mape_keras\n"
          ]
        },
        {
          "output_type": "stream",
          "name": "stdout",
          "text": [
            "\b\b\b\b\b\b\b\b\b\b\b\b\b\b\b\b\b\b\b\b\b\b\b\b\b\b\b\b\b\b\b\b\b\b\b\b\b\b\b\b\b\b\b\b\b\b\b\b\b\b\b\b\b\b\b\b\b\b\b\b\b\b\b\b\b\b\b\b\b\b\b\b\b\b\b\b\b\b\b\b\b\b\b\b\b\b\b\b\b\b\b\b\b\b\b\b\b\b\b\b\b\r298/298 [==============================] - 3s 9ms/step - loss: 0.0228 - mae: 0.0848 - mape_keras: 51.1008 - val_loss: 0.0232 - val_mae: 0.0876 - val_mape_keras: 54.2286\n",
            "Epoch 4/50\n",
            "298/298 [==============================] - ETA: 0s - loss: 0.0217 - mae: 0.0825 - mape_keras: 50.1279"
          ]
        },
        {
          "output_type": "stream",
          "name": "stderr",
          "text": [
            "WARNING:tensorflow:Early stopping conditioned on metric `val_mean_absolute_error` which is not available. Available metrics are: loss,mae,mape_keras,val_loss,val_mae,val_mape_keras\n"
          ]
        },
        {
          "output_type": "stream",
          "name": "stdout",
          "text": [
            "\b\b\b\b\b\b\b\b\b\b\b\b\b\b\b\b\b\b\b\b\b\b\b\b\b\b\b\b\b\b\b\b\b\b\b\b\b\b\b\b\b\b\b\b\b\b\b\b\b\b\b\b\b\b\b\b\b\b\b\b\b\b\b\b\b\b\b\b\b\b\b\b\b\b\b\b\b\b\b\b\b\b\b\b\b\b\b\b\b\b\b\b\b\b\b\b\b\b\b\b\b\r298/298 [==============================] - 3s 11ms/step - loss: 0.0217 - mae: 0.0825 - mape_keras: 50.1279 - val_loss: 0.0230 - val_mae: 0.0858 - val_mape_keras: 52.3884\n",
            "Epoch 5/50\n",
            "298/298 [==============================] - ETA: 0s - loss: 0.0211 - mae: 0.0819 - mape_keras: 50.2050"
          ]
        },
        {
          "output_type": "stream",
          "name": "stderr",
          "text": [
            "WARNING:tensorflow:Early stopping conditioned on metric `val_mean_absolute_error` which is not available. Available metrics are: loss,mae,mape_keras,val_loss,val_mae,val_mape_keras\n"
          ]
        },
        {
          "output_type": "stream",
          "name": "stdout",
          "text": [
            "\b\b\b\b\b\b\b\b\b\b\b\b\b\b\b\b\b\b\b\b\b\b\b\b\b\b\b\b\b\b\b\b\b\b\b\b\b\b\b\b\b\b\b\b\b\b\b\b\b\b\b\b\b\b\b\b\b\b\b\b\b\b\b\b\b\b\b\b\b\b\b\b\b\b\b\b\b\b\b\b\b\b\b\b\b\b\b\b\b\b\b\b\b\b\b\b\b\b\b\b\b\r298/298 [==============================] - 2s 8ms/step - loss: 0.0211 - mae: 0.0819 - mape_keras: 50.2050 - val_loss: 0.0229 - val_mae: 0.0846 - val_mape_keras: 50.9216\n",
            "Epoch 6/50\n",
            "298/298 [==============================] - ETA: 0s - loss: 0.0206 - mae: 0.0814 - mape_keras: 50.1059"
          ]
        },
        {
          "output_type": "stream",
          "name": "stderr",
          "text": [
            "WARNING:tensorflow:Early stopping conditioned on metric `val_mean_absolute_error` which is not available. Available metrics are: loss,mae,mape_keras,val_loss,val_mae,val_mape_keras\n"
          ]
        },
        {
          "output_type": "stream",
          "name": "stdout",
          "text": [
            "\b\b\b\b\b\b\b\b\b\b\b\b\b\b\b\b\b\b\b\b\b\b\b\b\b\b\b\b\b\b\b\b\b\b\b\b\b\b\b\b\b\b\b\b\b\b\b\b\b\b\b\b\b\b\b\b\b\b\b\b\b\b\b\b\b\b\b\b\b\b\b\b\b\b\b\b\b\b\b\b\b\b\b\b\b\b\b\b\b\b\b\b\b\b\b\b\b\b\b\b\b\r298/298 [==============================] - 2s 7ms/step - loss: 0.0206 - mae: 0.0814 - mape_keras: 50.1059 - val_loss: 0.0229 - val_mae: 0.0841 - val_mape_keras: 50.1745\n",
            "Epoch 7/50\n",
            "298/298 [==============================] - ETA: 0s - loss: 0.0203 - mae: 0.0806 - mape_keras: 49.4816"
          ]
        },
        {
          "output_type": "stream",
          "name": "stderr",
          "text": [
            "WARNING:tensorflow:Early stopping conditioned on metric `val_mean_absolute_error` which is not available. Available metrics are: loss,mae,mape_keras,val_loss,val_mae,val_mape_keras\n"
          ]
        },
        {
          "output_type": "stream",
          "name": "stdout",
          "text": [
            "\b\b\b\b\b\b\b\b\b\b\b\b\b\b\b\b\b\b\b\b\b\b\b\b\b\b\b\b\b\b\b\b\b\b\b\b\b\b\b\b\b\b\b\b\b\b\b\b\b\b\b\b\b\b\b\b\b\b\b\b\b\b\b\b\b\b\b\b\b\b\b\b\b\b\b\b\b\b\b\b\b\b\b\b\b\b\b\b\b\b\b\b\b\b\b\b\b\b\b\b\b\r298/298 [==============================] - 3s 9ms/step - loss: 0.0203 - mae: 0.0806 - mape_keras: 49.4816 - val_loss: 0.0229 - val_mae: 0.0855 - val_mape_keras: 52.1590\n",
            "Epoch 8/50\n",
            "298/298 [==============================] - ETA: 0s - loss: 0.0200 - mae: 0.0796 - mape_keras: 48.7093"
          ]
        },
        {
          "output_type": "stream",
          "name": "stderr",
          "text": [
            "WARNING:tensorflow:Early stopping conditioned on metric `val_mean_absolute_error` which is not available. Available metrics are: loss,mae,mape_keras,val_loss,val_mae,val_mape_keras\n"
          ]
        },
        {
          "output_type": "stream",
          "name": "stdout",
          "text": [
            "\b\b\b\b\b\b\b\b\b\b\b\b\b\b\b\b\b\b\b\b\b\b\b\b\b\b\b\b\b\b\b\b\b\b\b\b\b\b\b\b\b\b\b\b\b\b\b\b\b\b\b\b\b\b\b\b\b\b\b\b\b\b\b\b\b\b\b\b\b\b\b\b\b\b\b\b\b\b\b\b\b\b\b\b\b\b\b\b\b\b\b\b\b\b\b\b\b\b\b\b\b\r298/298 [==============================] - 2s 8ms/step - loss: 0.0200 - mae: 0.0796 - mape_keras: 48.7093 - val_loss: 0.0229 - val_mae: 0.0850 - val_mape_keras: 51.5443\n",
            "Epoch 9/50\n",
            "298/298 [==============================] - ETA: 0s - loss: 0.0197 - mae: 0.0786 - mape_keras: 47.9415"
          ]
        },
        {
          "output_type": "stream",
          "name": "stderr",
          "text": [
            "WARNING:tensorflow:Early stopping conditioned on metric `val_mean_absolute_error` which is not available. Available metrics are: loss,mae,mape_keras,val_loss,val_mae,val_mape_keras\n"
          ]
        },
        {
          "output_type": "stream",
          "name": "stdout",
          "text": [
            "\b\b\b\b\b\b\b\b\b\b\b\b\b\b\b\b\b\b\b\b\b\b\b\b\b\b\b\b\b\b\b\b\b\b\b\b\b\b\b\b\b\b\b\b\b\b\b\b\b\b\b\b\b\b\b\b\b\b\b\b\b\b\b\b\b\b\b\b\b\b\b\b\b\b\b\b\b\b\b\b\b\b\b\b\b\b\b\b\b\b\b\b\b\b\b\b\b\b\b\b\b\r298/298 [==============================] - 3s 9ms/step - loss: 0.0197 - mae: 0.0786 - mape_keras: 47.9415 - val_loss: 0.0230 - val_mae: 0.0808 - val_mape_keras: 46.1053\n",
            "Epoch 10/50\n",
            "298/298 [==============================] - ETA: 0s - loss: 0.0194 - mae: 0.0775 - mape_keras: 46.8662"
          ]
        },
        {
          "output_type": "stream",
          "name": "stderr",
          "text": [
            "WARNING:tensorflow:Early stopping conditioned on metric `val_mean_absolute_error` which is not available. Available metrics are: loss,mae,mape_keras,val_loss,val_mae,val_mape_keras\n"
          ]
        },
        {
          "output_type": "stream",
          "name": "stdout",
          "text": [
            "\b\b\b\b\b\b\b\b\b\b\b\b\b\b\b\b\b\b\b\b\b\b\b\b\b\b\b\b\b\b\b\b\b\b\b\b\b\b\b\b\b\b\b\b\b\b\b\b\b\b\b\b\b\b\b\b\b\b\b\b\b\b\b\b\b\b\b\b\b\b\b\b\b\b\b\b\b\b\b\b\b\b\b\b\b\b\b\b\b\b\b\b\b\b\b\b\b\b\b\b\b\r298/298 [==============================] - 2s 7ms/step - loss: 0.0194 - mae: 0.0775 - mape_keras: 46.8662 - val_loss: 0.0228 - val_mae: 0.0826 - val_mape_keras: 48.7452\n",
            "Epoch 11/50\n",
            "293/298 [============================>.] - ETA: 0s - loss: 0.0191 - mae: 0.0764 - mape_keras: 45.9679"
          ]
        },
        {
          "output_type": "stream",
          "name": "stderr",
          "text": [
            "WARNING:tensorflow:Early stopping conditioned on metric `val_mean_absolute_error` which is not available. Available metrics are: loss,mae,mape_keras,val_loss,val_mae,val_mape_keras\n"
          ]
        },
        {
          "output_type": "stream",
          "name": "stdout",
          "text": [
            "\b\b\b\b\b\b\b\b\b\b\b\b\b\b\b\b\b\b\b\b\b\b\b\b\b\b\b\b\b\b\b\b\b\b\b\b\b\b\b\b\b\b\b\b\b\b\b\b\b\b\b\b\b\b\b\b\b\b\b\b\b\b\b\b\b\b\b\b\b\b\b\b\b\b\b\b\b\b\b\b\b\b\b\b\b\b\b\b\b\b\b\b\b\b\b\b\b\b\b\b\b\r298/298 [==============================] - 2s 7ms/step - loss: 0.0192 - mae: 0.0765 - mape_keras: 45.9644 - val_loss: 0.0230 - val_mae: 0.0848 - val_mape_keras: 51.6339\n",
            "Epoch 12/50\n",
            "298/298 [==============================] - ETA: 0s - loss: 0.0190 - mae: 0.0757 - mape_keras: 45.3883"
          ]
        },
        {
          "output_type": "stream",
          "name": "stderr",
          "text": [
            "WARNING:tensorflow:Early stopping conditioned on metric `val_mean_absolute_error` which is not available. Available metrics are: loss,mae,mape_keras,val_loss,val_mae,val_mape_keras\n"
          ]
        },
        {
          "output_type": "stream",
          "name": "stdout",
          "text": [
            "\b\b\b\b\b\b\b\b\b\b\b\b\b\b\b\b\b\b\b\b\b\b\b\b\b\b\b\b\b\b\b\b\b\b\b\b\b\b\b\b\b\b\b\b\b\b\b\b\b\b\b\b\b\b\b\b\b\b\b\b\b\b\b\b\b\b\b\b\b\b\b\b\b\b\b\b\b\b\b\b\b\b\b\b\b\b\b\b\b\b\b\b\b\b\b\b\b\b\b\b\b\r298/298 [==============================] - 2s 6ms/step - loss: 0.0190 - mae: 0.0757 - mape_keras: 45.3883 - val_loss: 0.0232 - val_mae: 0.0814 - val_mape_keras: 47.2451\n",
            "Epoch 13/50\n",
            "298/298 [==============================] - ETA: 0s - loss: 0.0188 - mae: 0.0750 - mape_keras: 44.7432"
          ]
        },
        {
          "output_type": "stream",
          "name": "stderr",
          "text": [
            "WARNING:tensorflow:Early stopping conditioned on metric `val_mean_absolute_error` which is not available. Available metrics are: loss,mae,mape_keras,val_loss,val_mae,val_mape_keras\n"
          ]
        },
        {
          "output_type": "stream",
          "name": "stdout",
          "text": [
            "\b\b\b\b\b\b\b\b\b\b\b\b\b\b\b\b\b\b\b\b\b\b\b\b\b\b\b\b\b\b\b\b\b\b\b\b\b\b\b\b\b\b\b\b\b\b\b\b\b\b\b\b\b\b\b\b\b\b\b\b\b\b\b\b\b\b\b\b\b\b\b\b\b\b\b\b\b\b\b\b\b\b\b\b\b\b\b\b\b\b\b\b\b\b\b\b\b\b\b\b\b\r298/298 [==============================] - 2s 6ms/step - loss: 0.0188 - mae: 0.0750 - mape_keras: 44.7432 - val_loss: 0.0233 - val_mae: 0.0847 - val_mape_keras: 51.2601\n",
            "Epoch 14/50\n",
            "298/298 [==============================] - ETA: 0s - loss: 0.0186 - mae: 0.0746 - mape_keras: 44.5812"
          ]
        },
        {
          "output_type": "stream",
          "name": "stderr",
          "text": [
            "WARNING:tensorflow:Early stopping conditioned on metric `val_mean_absolute_error` which is not available. Available metrics are: loss,mae,mape_keras,val_loss,val_mae,val_mape_keras\n"
          ]
        },
        {
          "output_type": "stream",
          "name": "stdout",
          "text": [
            "\b\b\b\b\b\b\b\b\b\b\b\b\b\b\b\b\b\b\b\b\b\b\b\b\b\b\b\b\b\b\b\b\b\b\b\b\b\b\b\b\b\b\b\b\b\b\b\b\b\b\b\b\b\b\b\b\b\b\b\b\b\b\b\b\b\b\b\b\b\b\b\b\b\b\b\b\b\b\b\b\b\b\b\b\b\b\b\b\b\b\b\b\b\b\b\b\b\b\b\b\b\r298/298 [==============================] - 2s 7ms/step - loss: 0.0186 - mae: 0.0746 - mape_keras: 44.5812 - val_loss: 0.0236 - val_mae: 0.0854 - val_mape_keras: 52.1080\n",
            "Epoch 15/50\n",
            "288/298 [===========================>..] - ETA: 0s - loss: 0.0185 - mae: 0.0742 - mape_keras: 44.2063"
          ]
        },
        {
          "output_type": "stream",
          "name": "stderr",
          "text": [
            "WARNING:tensorflow:Early stopping conditioned on metric `val_mean_absolute_error` which is not available. Available metrics are: loss,mae,mape_keras,val_loss,val_mae,val_mape_keras\n"
          ]
        },
        {
          "output_type": "stream",
          "name": "stdout",
          "text": [
            "\b\b\b\b\b\b\b\b\b\b\b\b\b\b\b\b\b\b\b\b\b\b\b\b\b\b\b\b\b\b\b\b\b\b\b\b\b\b\b\b\b\b\b\b\b\b\b\b\b\b\b\b\b\b\b\b\b\b\b\b\b\b\b\b\b\b\b\b\b\b\b\b\b\b\b\b\b\b\b\b\b\b\b\b\b\b\b\b\b\b\b\b\b\b\b\b\b\b\b\b\b\r298/298 [==============================] - 2s 7ms/step - loss: 0.0185 - mae: 0.0741 - mape_keras: 44.1531 - val_loss: 0.0235 - val_mae: 0.0822 - val_mape_keras: 48.1237\n",
            "Epoch 16/50\n",
            "298/298 [==============================] - ETA: 0s - loss: 0.0183 - mae: 0.0739 - mape_keras: 44.0868"
          ]
        },
        {
          "output_type": "stream",
          "name": "stderr",
          "text": [
            "WARNING:tensorflow:Early stopping conditioned on metric `val_mean_absolute_error` which is not available. Available metrics are: loss,mae,mape_keras,val_loss,val_mae,val_mape_keras\n"
          ]
        },
        {
          "output_type": "stream",
          "name": "stdout",
          "text": [
            "\b\b\b\b\b\b\b\b\b\b\b\b\b\b\b\b\b\b\b\b\b\b\b\b\b\b\b\b\b\b\b\b\b\b\b\b\b\b\b\b\b\b\b\b\b\b\b\b\b\b\b\b\b\b\b\b\b\b\b\b\b\b\b\b\b\b\b\b\b\b\b\b\b\b\b\b\b\b\b\b\b\b\b\b\b\b\b\b\b\b\b\b\b\b\b\b\b\b\b\b\b\r298/298 [==============================] - 2s 6ms/step - loss: 0.0183 - mae: 0.0739 - mape_keras: 44.0868 - val_loss: 0.0237 - val_mae: 0.0817 - val_mape_keras: 47.3251\n",
            "Epoch 17/50\n",
            "298/298 [==============================] - ETA: 0s - loss: 0.0182 - mae: 0.0735 - mape_keras: 43.8824"
          ]
        },
        {
          "output_type": "stream",
          "name": "stderr",
          "text": [
            "WARNING:tensorflow:Early stopping conditioned on metric `val_mean_absolute_error` which is not available. Available metrics are: loss,mae,mape_keras,val_loss,val_mae,val_mape_keras\n"
          ]
        },
        {
          "output_type": "stream",
          "name": "stdout",
          "text": [
            "\b\b\b\b\b\b\b\b\b\b\b\b\b\b\b\b\b\b\b\b\b\b\b\b\b\b\b\b\b\b\b\b\b\b\b\b\b\b\b\b\b\b\b\b\b\b\b\b\b\b\b\b\b\b\b\b\b\b\b\b\b\b\b\b\b\b\b\b\b\b\b\b\b\b\b\b\b\b\b\b\b\b\b\b\b\b\b\b\b\b\b\b\b\b\b\b\b\b\b\b\b\r298/298 [==============================] - 2s 7ms/step - loss: 0.0182 - mae: 0.0735 - mape_keras: 43.8824 - val_loss: 0.0242 - val_mae: 0.0828 - val_mape_keras: 48.2781\n",
            "Epoch 18/50\n",
            "298/298 [==============================] - ETA: 0s - loss: 0.0181 - mae: 0.0733 - mape_keras: 43.7978"
          ]
        },
        {
          "output_type": "stream",
          "name": "stderr",
          "text": [
            "WARNING:tensorflow:Early stopping conditioned on metric `val_mean_absolute_error` which is not available. Available metrics are: loss,mae,mape_keras,val_loss,val_mae,val_mape_keras\n"
          ]
        },
        {
          "output_type": "stream",
          "name": "stdout",
          "text": [
            "\b\b\b\b\b\b\b\b\b\b\b\b\b\b\b\b\b\b\b\b\b\b\b\b\b\b\b\b\b\b\b\b\b\b\b\b\b\b\b\b\b\b\b\b\b\b\b\b\b\b\b\b\b\b\b\b\b\b\b\b\b\b\b\b\b\b\b\b\b\b\b\b\b\b\b\b\b\b\b\b\b\b\b\b\b\b\b\b\b\b\b\b\b\b\b\b\b\b\b\b\b\r298/298 [==============================] - 2s 6ms/step - loss: 0.0181 - mae: 0.0733 - mape_keras: 43.7978 - val_loss: 0.0240 - val_mae: 0.0809 - val_mape_keras: 46.0287\n",
            "Epoch 19/50\n",
            "294/298 [============================>.] - ETA: 0s - loss: 0.0180 - mae: 0.0731 - mape_keras: 43.6760"
          ]
        },
        {
          "output_type": "stream",
          "name": "stderr",
          "text": [
            "WARNING:tensorflow:Early stopping conditioned on metric `val_mean_absolute_error` which is not available. Available metrics are: loss,mae,mape_keras,val_loss,val_mae,val_mape_keras\n"
          ]
        },
        {
          "output_type": "stream",
          "name": "stdout",
          "text": [
            "\b\b\b\b\b\b\b\b\b\b\b\b\b\b\b\b\b\b\b\b\b\b\b\b\b\b\b\b\b\b\b\b\b\b\b\b\b\b\b\b\b\b\b\b\b\b\b\b\b\b\b\b\b\b\b\b\b\b\b\b\b\b\b\b\b\b\b\b\b\b\b\b\b\b\b\b\b\b\b\b\b\b\b\b\b\b\b\b\b\b\b\b\b\b\b\b\b\b\b\b\b\r298/298 [==============================] - 2s 6ms/step - loss: 0.0180 - mae: 0.0731 - mape_keras: 43.6346 - val_loss: 0.0241 - val_mae: 0.0808 - val_mape_keras: 45.7282\n",
            "Epoch 20/50\n",
            "294/298 [============================>.] - ETA: 0s - loss: 0.0179 - mae: 0.0729 - mape_keras: 43.6436"
          ]
        },
        {
          "output_type": "stream",
          "name": "stderr",
          "text": [
            "WARNING:tensorflow:Early stopping conditioned on metric `val_mean_absolute_error` which is not available. Available metrics are: loss,mae,mape_keras,val_loss,val_mae,val_mape_keras\n"
          ]
        },
        {
          "output_type": "stream",
          "name": "stdout",
          "text": [
            "\b\b\b\b\b\b\b\b\b\b\b\b\b\b\b\b\b\b\b\b\b\b\b\b\b\b\b\b\b\b\b\b\b\b\b\b\b\b\b\b\b\b\b\b\b\b\b\b\b\b\b\b\b\b\b\b\b\b\b\b\b\b\b\b\b\b\b\b\b\b\b\b\b\b\b\b\b\b\b\b\b\b\b\b\b\b\b\b\b\b\b\b\b\b\b\b\b\b\b\b\b\r298/298 [==============================] - 2s 6ms/step - loss: 0.0179 - mae: 0.0730 - mape_keras: 43.6574 - val_loss: 0.0245 - val_mae: 0.0837 - val_mape_keras: 49.1643\n",
            "Epoch 21/50\n",
            "298/298 [==============================] - ETA: 0s - loss: 0.0178 - mae: 0.0727 - mape_keras: 43.4740"
          ]
        },
        {
          "output_type": "stream",
          "name": "stderr",
          "text": [
            "WARNING:tensorflow:Early stopping conditioned on metric `val_mean_absolute_error` which is not available. Available metrics are: loss,mae,mape_keras,val_loss,val_mae,val_mape_keras\n"
          ]
        },
        {
          "output_type": "stream",
          "name": "stdout",
          "text": [
            "\b\b\b\b\b\b\b\b\b\b\b\b\b\b\b\b\b\b\b\b\b\b\b\b\b\b\b\b\b\b\b\b\b\b\b\b\b\b\b\b\b\b\b\b\b\b\b\b\b\b\b\b\b\b\b\b\b\b\b\b\b\b\b\b\b\b\b\b\b\b\b\b\b\b\b\b\b\b\b\b\b\b\b\b\b\b\b\b\b\b\b\b\b\b\b\b\b\b\b\b\b\r298/298 [==============================] - 3s 9ms/step - loss: 0.0178 - mae: 0.0727 - mape_keras: 43.4740 - val_loss: 0.0246 - val_mae: 0.0835 - val_mape_keras: 48.8245\n",
            "Epoch 22/50\n",
            "291/298 [============================>.] - ETA: 0s - loss: 0.0178 - mae: 0.0726 - mape_keras: 43.5131"
          ]
        },
        {
          "output_type": "stream",
          "name": "stderr",
          "text": [
            "WARNING:tensorflow:Early stopping conditioned on metric `val_mean_absolute_error` which is not available. Available metrics are: loss,mae,mape_keras,val_loss,val_mae,val_mape_keras\n"
          ]
        },
        {
          "output_type": "stream",
          "name": "stdout",
          "text": [
            "\b\b\b\b\b\b\b\b\b\b\b\b\b\b\b\b\b\b\b\b\b\b\b\b\b\b\b\b\b\b\b\b\b\b\b\b\b\b\b\b\b\b\b\b\b\b\b\b\b\b\b\b\b\b\b\b\b\b\b\b\b\b\b\b\b\b\b\b\b\b\b\b\b\b\b\b\b\b\b\b\b\b\b\b\b\b\b\b\b\b\b\b\b\b\b\b\b\b\b\b\b\r298/298 [==============================] - 2s 6ms/step - loss: 0.0178 - mae: 0.0726 - mape_keras: 43.5491 - val_loss: 0.0246 - val_mae: 0.0825 - val_mape_keras: 47.4021\n",
            "Epoch 23/50\n",
            "292/298 [============================>.] - ETA: 0s - loss: 0.0177 - mae: 0.0724 - mape_keras: 43.3976"
          ]
        },
        {
          "output_type": "stream",
          "name": "stderr",
          "text": [
            "WARNING:tensorflow:Early stopping conditioned on metric `val_mean_absolute_error` which is not available. Available metrics are: loss,mae,mape_keras,val_loss,val_mae,val_mape_keras\n"
          ]
        },
        {
          "output_type": "stream",
          "name": "stdout",
          "text": [
            "\b\b\b\b\b\b\b\b\b\b\b\b\b\b\b\b\b\b\b\b\b\b\b\b\b\b\b\b\b\b\b\b\b\b\b\b\b\b\b\b\b\b\b\b\b\b\b\b\b\b\b\b\b\b\b\b\b\b\b\b\b\b\b\b\b\b\b\b\b\b\b\b\b\b\b\b\b\b\b\b\b\b\b\b\b\b\b\b\b\b\b\b\b\b\b\b\b\b\b\b\b\r298/298 [==============================] - 2s 6ms/step - loss: 0.0177 - mae: 0.0724 - mape_keras: 43.3937 - val_loss: 0.0247 - val_mae: 0.0821 - val_mape_keras: 46.8063\n",
            "Epoch 24/50\n",
            "289/298 [============================>.] - ETA: 0s - loss: 0.0176 - mae: 0.0723 - mape_keras: 43.4095"
          ]
        },
        {
          "output_type": "stream",
          "name": "stderr",
          "text": [
            "WARNING:tensorflow:Early stopping conditioned on metric `val_mean_absolute_error` which is not available. Available metrics are: loss,mae,mape_keras,val_loss,val_mae,val_mape_keras\n"
          ]
        },
        {
          "output_type": "stream",
          "name": "stdout",
          "text": [
            "\b\b\b\b\b\b\b\b\b\b\b\b\b\b\b\b\b\b\b\b\b\b\b\b\b\b\b\b\b\b\b\b\b\b\b\b\b\b\b\b\b\b\b\b\b\b\b\b\b\b\b\b\b\b\b\b\b\b\b\b\b\b\b\b\b\b\b\b\b\b\b\b\b\b\b\b\b\b\b\b\b\b\b\b\b\b\b\b\b\b\b\b\b\b\b\b\b\b\b\b\b\r298/298 [==============================] - 2s 6ms/step - loss: 0.0176 - mae: 0.0723 - mape_keras: 43.3962 - val_loss: 0.0248 - val_mae: 0.0819 - val_mape_keras: 46.3131\n",
            "Epoch 25/50\n",
            "298/298 [==============================] - ETA: 0s - loss: 0.0175 - mae: 0.0722 - mape_keras: 43.3930"
          ]
        },
        {
          "output_type": "stream",
          "name": "stderr",
          "text": [
            "WARNING:tensorflow:Early stopping conditioned on metric `val_mean_absolute_error` which is not available. Available metrics are: loss,mae,mape_keras,val_loss,val_mae,val_mape_keras\n"
          ]
        },
        {
          "output_type": "stream",
          "name": "stdout",
          "text": [
            "\b\b\b\b\b\b\b\b\b\b\b\b\b\b\b\b\b\b\b\b\b\b\b\b\b\b\b\b\b\b\b\b\b\b\b\b\b\b\b\b\b\b\b\b\b\b\b\b\b\b\b\b\b\b\b\b\b\b\b\b\b\b\b\b\b\b\b\b\b\b\b\b\b\b\b\b\b\b\b\b\b\b\b\b\b\b\b\b\b\b\b\b\b\b\b\b\b\b\b\b\b\r298/298 [==============================] - 2s 7ms/step - loss: 0.0175 - mae: 0.0722 - mape_keras: 43.3930 - val_loss: 0.0248 - val_mae: 0.0873 - val_mape_keras: 53.5560\n",
            "Epoch 26/50\n",
            "289/298 [============================>.] - ETA: 0s - loss: 0.0174 - mae: 0.0718 - mape_keras: 43.2258"
          ]
        },
        {
          "output_type": "stream",
          "name": "stderr",
          "text": [
            "WARNING:tensorflow:Early stopping conditioned on metric `val_mean_absolute_error` which is not available. Available metrics are: loss,mae,mape_keras,val_loss,val_mae,val_mape_keras\n"
          ]
        },
        {
          "output_type": "stream",
          "name": "stdout",
          "text": [
            "\b\b\b\b\b\b\b\b\b\b\b\b\b\b\b\b\b\b\b\b\b\b\b\b\b\b\b\b\b\b\b\b\b\b\b\b\b\b\b\b\b\b\b\b\b\b\b\b\b\b\b\b\b\b\b\b\b\b\b\b\b\b\b\b\b\b\b\b\b\b\b\b\b\b\b\b\b\b\b\b\b\b\b\b\b\b\b\b\b\b\b\b\b\b\b\b\b\b\b\b\b\r298/298 [==============================] - 2s 5ms/step - loss: 0.0174 - mae: 0.0719 - mape_keras: 43.2526 - val_loss: 0.0250 - val_mae: 0.0895 - val_mape_keras: 56.2408\n",
            "Epoch 27/50\n",
            "296/298 [============================>.] - ETA: 0s - loss: 0.0173 - mae: 0.0717 - mape_keras: 43.2037"
          ]
        },
        {
          "output_type": "stream",
          "name": "stderr",
          "text": [
            "WARNING:tensorflow:Early stopping conditioned on metric `val_mean_absolute_error` which is not available. Available metrics are: loss,mae,mape_keras,val_loss,val_mae,val_mape_keras\n"
          ]
        },
        {
          "output_type": "stream",
          "name": "stdout",
          "text": [
            "\b\b\b\b\b\b\b\b\b\b\b\b\b\b\b\b\b\b\b\b\b\b\b\b\b\b\b\b\b\b\b\b\b\b\b\b\b\b\b\b\b\b\b\b\b\b\b\b\b\b\b\b\b\b\b\b\b\b\b\b\b\b\b\b\b\b\b\b\b\b\b\b\b\b\b\b\b\b\b\b\b\b\b\b\b\b\b\b\b\b\b\b\b\b\b\b\b\b\b\b\b\r298/298 [==============================] - 2s 7ms/step - loss: 0.0173 - mae: 0.0717 - mape_keras: 43.1893 - val_loss: 0.0248 - val_mae: 0.0858 - val_mape_keras: 51.5515\n",
            "Epoch 28/50\n",
            "298/298 [==============================] - ETA: 0s - loss: 0.0173 - mae: 0.0717 - mape_keras: 43.2172"
          ]
        },
        {
          "output_type": "stream",
          "name": "stderr",
          "text": [
            "WARNING:tensorflow:Early stopping conditioned on metric `val_mean_absolute_error` which is not available. Available metrics are: loss,mae,mape_keras,val_loss,val_mae,val_mape_keras\n"
          ]
        },
        {
          "output_type": "stream",
          "name": "stdout",
          "text": [
            "\b\b\b\b\b\b\b\b\b\b\b\b\b\b\b\b\b\b\b\b\b\b\b\b\b\b\b\b\b\b\b\b\b\b\b\b\b\b\b\b\b\b\b\b\b\b\b\b\b\b\b\b\b\b\b\b\b\b\b\b\b\b\b\b\b\b\b\b\b\b\b\b\b\b\b\b\b\b\b\b\b\b\b\b\b\b\b\b\b\b\b\b\b\b\b\b\b\b\b\b\b\r298/298 [==============================] - 2s 8ms/step - loss: 0.0173 - mae: 0.0717 - mape_keras: 43.2172 - val_loss: 0.0251 - val_mae: 0.0864 - val_mape_keras: 52.0572\n",
            "Epoch 29/50\n",
            "294/298 [============================>.] - ETA: 0s - loss: 0.0172 - mae: 0.0716 - mape_keras: 43.1731"
          ]
        },
        {
          "output_type": "stream",
          "name": "stderr",
          "text": [
            "WARNING:tensorflow:Early stopping conditioned on metric `val_mean_absolute_error` which is not available. Available metrics are: loss,mae,mape_keras,val_loss,val_mae,val_mape_keras\n"
          ]
        },
        {
          "output_type": "stream",
          "name": "stdout",
          "text": [
            "\b\b\b\b\b\b\b\b\b\b\b\b\b\b\b\b\b\b\b\b\b\b\b\b\b\b\b\b\b\b\b\b\b\b\b\b\b\b\b\b\b\b\b\b\b\b\b\b\b\b\b\b\b\b\b\b\b\b\b\b\b\b\b\b\b\b\b\b\b\b\b\b\b\b\b\b\b\b\b\b\b\b\b\b\b\b\b\b\b\b\b\b\b\b\b\b\b\b\b\b\b\r298/298 [==============================] - 2s 6ms/step - loss: 0.0172 - mae: 0.0716 - mape_keras: 43.1579 - val_loss: 0.0249 - val_mae: 0.0833 - val_mape_keras: 48.0417\n",
            "Epoch 30/50\n",
            "298/298 [==============================] - ETA: 0s - loss: 0.0172 - mae: 0.0715 - mape_keras: 43.2161"
          ]
        },
        {
          "output_type": "stream",
          "name": "stderr",
          "text": [
            "WARNING:tensorflow:Early stopping conditioned on metric `val_mean_absolute_error` which is not available. Available metrics are: loss,mae,mape_keras,val_loss,val_mae,val_mape_keras\n"
          ]
        },
        {
          "output_type": "stream",
          "name": "stdout",
          "text": [
            "\b\b\b\b\b\b\b\b\b\b\b\b\b\b\b\b\b\b\b\b\b\b\b\b\b\b\b\b\b\b\b\b\b\b\b\b\b\b\b\b\b\b\b\b\b\b\b\b\b\b\b\b\b\b\b\b\b\b\b\b\b\b\b\b\b\b\b\b\b\b\b\b\b\b\b\b\b\b\b\b\b\b\b\b\b\b\b\b\b\b\b\b\b\b\b\b\b\b\b\b\b\r298/298 [==============================] - 2s 6ms/step - loss: 0.0172 - mae: 0.0715 - mape_keras: 43.2161 - val_loss: 0.0251 - val_mae: 0.0840 - val_mape_keras: 48.7955\n",
            "Epoch 31/50\n",
            "298/298 [==============================] - ETA: 0s - loss: 0.0171 - mae: 0.0712 - mape_keras: 43.0774"
          ]
        },
        {
          "output_type": "stream",
          "name": "stderr",
          "text": [
            "WARNING:tensorflow:Early stopping conditioned on metric `val_mean_absolute_error` which is not available. Available metrics are: loss,mae,mape_keras,val_loss,val_mae,val_mape_keras\n"
          ]
        },
        {
          "output_type": "stream",
          "name": "stdout",
          "text": [
            "\b\b\b\b\b\b\b\b\b\b\b\b\b\b\b\b\b\b\b\b\b\b\b\b\b\b\b\b\b\b\b\b\b\b\b\b\b\b\b\b\b\b\b\b\b\b\b\b\b\b\b\b\b\b\b\b\b\b\b\b\b\b\b\b\b\b\b\b\b\b\b\b\b\b\b\b\b\b\b\b\b\b\b\b\b\b\b\b\b\b\b\b\b\b\b\b\b\b\b\b\b\r298/298 [==============================] - 2s 6ms/step - loss: 0.0171 - mae: 0.0712 - mape_keras: 43.0774 - val_loss: 0.0252 - val_mae: 0.0849 - val_mape_keras: 49.9049\n",
            "Epoch 32/50\n",
            "296/298 [============================>.] - ETA: 0s - loss: 0.0170 - mae: 0.0710 - mape_keras: 42.9037"
          ]
        },
        {
          "output_type": "stream",
          "name": "stderr",
          "text": [
            "WARNING:tensorflow:Early stopping conditioned on metric `val_mean_absolute_error` which is not available. Available metrics are: loss,mae,mape_keras,val_loss,val_mae,val_mape_keras\n"
          ]
        },
        {
          "output_type": "stream",
          "name": "stdout",
          "text": [
            "\b\b\b\b\b\b\b\b\b\b\b\b\b\b\b\b\b\b\b\b\b\b\b\b\b\b\b\b\b\b\b\b\b\b\b\b\b\b\b\b\b\b\b\b\b\b\b\b\b\b\b\b\b\b\b\b\b\b\b\b\b\b\b\b\b\b\b\b\b\b\b\b\b\b\b\b\b\b\b\b\b\b\b\b\b\b\b\b\b\b\b\b\b\b\b\b\b\b\b\b\b\r298/298 [==============================] - 2s 6ms/step - loss: 0.0170 - mae: 0.0710 - mape_keras: 42.9507 - val_loss: 0.0257 - val_mae: 0.0888 - val_mape_keras: 54.7273\n",
            "Epoch 33/50\n",
            "293/298 [============================>.] - ETA: 0s - loss: 0.0169 - mae: 0.0708 - mape_keras: 42.8435"
          ]
        },
        {
          "output_type": "stream",
          "name": "stderr",
          "text": [
            "WARNING:tensorflow:Early stopping conditioned on metric `val_mean_absolute_error` which is not available. Available metrics are: loss,mae,mape_keras,val_loss,val_mae,val_mape_keras\n"
          ]
        },
        {
          "output_type": "stream",
          "name": "stdout",
          "text": [
            "\b\b\b\b\b\b\b\b\b\b\b\b\b\b\b\b\b\b\b\b\b\b\b\b\b\b\b\b\b\b\b\b\b\b\b\b\b\b\b\b\b\b\b\b\b\b\b\b\b\b\b\b\b\b\b\b\b\b\b\b\b\b\b\b\b\b\b\b\b\b\b\b\b\b\b\b\b\b\b\b\b\b\b\b\b\b\b\b\b\b\b\b\b\b\b\b\b\b\b\b\b\r298/298 [==============================] - 2s 6ms/step - loss: 0.0169 - mae: 0.0709 - mape_keras: 42.8837 - val_loss: 0.0255 - val_mae: 0.0870 - val_mape_keras: 52.5270\n",
            "Epoch 34/50\n",
            "298/298 [==============================] - ETA: 0s - loss: 0.0168 - mae: 0.0708 - mape_keras: 42.8730"
          ]
        },
        {
          "output_type": "stream",
          "name": "stderr",
          "text": [
            "WARNING:tensorflow:Early stopping conditioned on metric `val_mean_absolute_error` which is not available. Available metrics are: loss,mae,mape_keras,val_loss,val_mae,val_mape_keras\n"
          ]
        },
        {
          "output_type": "stream",
          "name": "stdout",
          "text": [
            "\b\b\b\b\b\b\b\b\b\b\b\b\b\b\b\b\b\b\b\b\b\b\b\b\b\b\b\b\b\b\b\b\b\b\b\b\b\b\b\b\b\b\b\b\b\b\b\b\b\b\b\b\b\b\b\b\b\b\b\b\b\b\b\b\b\b\b\b\b\b\b\b\b\b\b\b\b\b\b\b\b\b\b\b\b\b\b\b\b\b\b\b\b\b\b\b\b\b\b\b\b\r298/298 [==============================] - 3s 9ms/step - loss: 0.0168 - mae: 0.0708 - mape_keras: 42.8730 - val_loss: 0.0253 - val_mae: 0.0874 - val_mape_keras: 53.1717\n",
            "Epoch 35/50\n",
            "298/298 [==============================] - ETA: 0s - loss: 0.0168 - mae: 0.0705 - mape_keras: 42.7788"
          ]
        },
        {
          "output_type": "stream",
          "name": "stderr",
          "text": [
            "WARNING:tensorflow:Early stopping conditioned on metric `val_mean_absolute_error` which is not available. Available metrics are: loss,mae,mape_keras,val_loss,val_mae,val_mape_keras\n"
          ]
        },
        {
          "output_type": "stream",
          "name": "stdout",
          "text": [
            "\b\b\b\b\b\b\b\b\b\b\b\b\b\b\b\b\b\b\b\b\b\b\b\b\b\b\b\b\b\b\b\b\b\b\b\b\b\b\b\b\b\b\b\b\b\b\b\b\b\b\b\b\b\b\b\b\b\b\b\b\b\b\b\b\b\b\b\b\b\b\b\b\b\b\b\b\b\b\b\b\b\b\b\b\b\b\b\b\b\b\b\b\b\b\b\b\b\b\b\b\b\r298/298 [==============================] - 2s 6ms/step - loss: 0.0168 - mae: 0.0705 - mape_keras: 42.7788 - val_loss: 0.0256 - val_mae: 0.0888 - val_mape_keras: 54.5431\n",
            "Epoch 36/50\n",
            "298/298 [==============================] - ETA: 0s - loss: 0.0167 - mae: 0.0705 - mape_keras: 42.8834"
          ]
        },
        {
          "output_type": "stream",
          "name": "stderr",
          "text": [
            "WARNING:tensorflow:Early stopping conditioned on metric `val_mean_absolute_error` which is not available. Available metrics are: loss,mae,mape_keras,val_loss,val_mae,val_mape_keras\n"
          ]
        },
        {
          "output_type": "stream",
          "name": "stdout",
          "text": [
            "\b\b\b\b\b\b\b\b\b\b\b\b\b\b\b\b\b\b\b\b\b\b\b\b\b\b\b\b\b\b\b\b\b\b\b\b\b\b\b\b\b\b\b\b\b\b\b\b\b\b\b\b\b\b\b\b\b\b\b\b\b\b\b\b\b\b\b\b\b\b\b\b\b\b\b\b\b\b\b\b\b\b\b\b\b\b\b\b\b\b\b\b\b\b\b\b\b\b\b\b\b\r298/298 [==============================] - 2s 6ms/step - loss: 0.0167 - mae: 0.0705 - mape_keras: 42.8834 - val_loss: 0.0255 - val_mae: 0.0844 - val_mape_keras: 48.5896\n",
            "Epoch 37/50\n",
            "294/298 [============================>.] - ETA: 0s - loss: 0.0166 - mae: 0.0702 - mape_keras: 42.6497"
          ]
        },
        {
          "output_type": "stream",
          "name": "stderr",
          "text": [
            "WARNING:tensorflow:Early stopping conditioned on metric `val_mean_absolute_error` which is not available. Available metrics are: loss,mae,mape_keras,val_loss,val_mae,val_mape_keras\n"
          ]
        },
        {
          "output_type": "stream",
          "name": "stdout",
          "text": [
            "\b\b\b\b\b\b\b\b\b\b\b\b\b\b\b\b\b\b\b\b\b\b\b\b\b\b\b\b\b\b\b\b\b\b\b\b\b\b\b\b\b\b\b\b\b\b\b\b\b\b\b\b\b\b\b\b\b\b\b\b\b\b\b\b\b\b\b\b\b\b\b\b\b\b\b\b\b\b\b\b\b\b\b\b\b\b\b\b\b\b\b\b\b\b\b\b\b\b\b\b\b\r298/298 [==============================] - 2s 6ms/step - loss: 0.0166 - mae: 0.0702 - mape_keras: 42.6287 - val_loss: 0.0256 - val_mae: 0.0867 - val_mape_keras: 51.7955\n",
            "Epoch 38/50\n",
            "295/298 [============================>.] - ETA: 0s - loss: 0.0165 - mae: 0.0701 - mape_keras: 42.6774"
          ]
        },
        {
          "output_type": "stream",
          "name": "stderr",
          "text": [
            "WARNING:tensorflow:Early stopping conditioned on metric `val_mean_absolute_error` which is not available. Available metrics are: loss,mae,mape_keras,val_loss,val_mae,val_mape_keras\n"
          ]
        },
        {
          "output_type": "stream",
          "name": "stdout",
          "text": [
            "\b\b\b\b\b\b\b\b\b\b\b\b\b\b\b\b\b\b\b\b\b\b\b\b\b\b\b\b\b\b\b\b\b\b\b\b\b\b\b\b\b\b\b\b\b\b\b\b\b\b\b\b\b\b\b\b\b\b\b\b\b\b\b\b\b\b\b\b\b\b\b\b\b\b\b\b\b\b\b\b\b\b\b\b\b\b\b\b\b\b\b\b\b\b\b\b\b\b\b\b\b\r298/298 [==============================] - 2s 6ms/step - loss: 0.0165 - mae: 0.0701 - mape_keras: 42.6627 - val_loss: 0.0254 - val_mae: 0.0859 - val_mape_keras: 50.6714\n",
            "Epoch 39/50\n",
            "298/298 [==============================] - ETA: 0s - loss: 0.0164 - mae: 0.0699 - mape_keras: 42.6011"
          ]
        },
        {
          "output_type": "stream",
          "name": "stderr",
          "text": [
            "WARNING:tensorflow:Early stopping conditioned on metric `val_mean_absolute_error` which is not available. Available metrics are: loss,mae,mape_keras,val_loss,val_mae,val_mape_keras\n"
          ]
        },
        {
          "output_type": "stream",
          "name": "stdout",
          "text": [
            "\b\b\b\b\b\b\b\b\b\b\b\b\b\b\b\b\b\b\b\b\b\b\b\b\b\b\b\b\b\b\b\b\b\b\b\b\b\b\b\b\b\b\b\b\b\b\b\b\b\b\b\b\b\b\b\b\b\b\b\b\b\b\b\b\b\b\b\b\b\b\b\b\b\b\b\b\b\b\b\b\b\b\b\b\b\b\b\b\b\b\b\b\b\b\b\b\b\b\b\b\b\r298/298 [==============================] - 2s 7ms/step - loss: 0.0164 - mae: 0.0699 - mape_keras: 42.6011 - val_loss: 0.0265 - val_mae: 0.0920 - val_mape_keras: 58.2293\n",
            "Epoch 40/50\n",
            "298/298 [==============================] - ETA: 0s - loss: 0.0163 - mae: 0.0698 - mape_keras: 42.5981"
          ]
        },
        {
          "output_type": "stream",
          "name": "stderr",
          "text": [
            "WARNING:tensorflow:Early stopping conditioned on metric `val_mean_absolute_error` which is not available. Available metrics are: loss,mae,mape_keras,val_loss,val_mae,val_mape_keras\n"
          ]
        },
        {
          "output_type": "stream",
          "name": "stdout",
          "text": [
            "\b\b\b\b\b\b\b\b\b\b\b\b\b\b\b\b\b\b\b\b\b\b\b\b\b\b\b\b\b\b\b\b\b\b\b\b\b\b\b\b\b\b\b\b\b\b\b\b\b\b\b\b\b\b\b\b\b\b\b\b\b\b\b\b\b\b\b\b\b\b\b\b\b\b\b\b\b\b\b\b\b\b\b\b\b\b\b\b\b\b\b\b\b\b\b\b\b\b\b\b\b\r298/298 [==============================] - 3s 8ms/step - loss: 0.0163 - mae: 0.0698 - mape_keras: 42.5981 - val_loss: 0.0259 - val_mae: 0.0884 - val_mape_keras: 53.6100\n",
            "Epoch 41/50\n",
            "298/298 [==============================] - ETA: 0s - loss: 0.0162 - mae: 0.0696 - mape_keras: 42.5859"
          ]
        },
        {
          "output_type": "stream",
          "name": "stderr",
          "text": [
            "WARNING:tensorflow:Early stopping conditioned on metric `val_mean_absolute_error` which is not available. Available metrics are: loss,mae,mape_keras,val_loss,val_mae,val_mape_keras\n"
          ]
        },
        {
          "output_type": "stream",
          "name": "stdout",
          "text": [
            "\b\b\b\b\b\b\b\b\b\b\b\b\b\b\b\b\b\b\b\b\b\b\b\b\b\b\b\b\b\b\b\b\b\b\b\b\b\b\b\b\b\b\b\b\b\b\b\b\b\b\b\b\b\b\b\b\b\b\b\b\b\b\b\b\b\b\b\b\b\b\b\b\b\b\b\b\b\b\b\b\b\b\b\b\b\b\b\b\b\b\b\b\b\b\b\b\b\b\b\b\b\r298/298 [==============================] - 2s 7ms/step - loss: 0.0162 - mae: 0.0696 - mape_keras: 42.5859 - val_loss: 0.0261 - val_mae: 0.0908 - val_mape_keras: 56.7067\n",
            "Epoch 42/50\n",
            "294/298 [============================>.] - ETA: 0s - loss: 0.0162 - mae: 0.0695 - mape_keras: 42.4706"
          ]
        },
        {
          "output_type": "stream",
          "name": "stderr",
          "text": [
            "WARNING:tensorflow:Early stopping conditioned on metric `val_mean_absolute_error` which is not available. Available metrics are: loss,mae,mape_keras,val_loss,val_mae,val_mape_keras\n"
          ]
        },
        {
          "output_type": "stream",
          "name": "stdout",
          "text": [
            "\b\b\b\b\b\b\b\b\b\b\b\b\b\b\b\b\b\b\b\b\b\b\b\b\b\b\b\b\b\b\b\b\b\b\b\b\b\b\b\b\b\b\b\b\b\b\b\b\b\b\b\b\b\b\b\b\b\b\b\b\b\b\b\b\b\b\b\b\b\b\b\b\b\b\b\b\b\b\b\b\b\b\b\b\b\b\b\b\b\b\b\b\b\b\b\b\b\b\b\b\b\r298/298 [==============================] - 2s 6ms/step - loss: 0.0161 - mae: 0.0694 - mape_keras: 42.4933 - val_loss: 0.0259 - val_mae: 0.0874 - val_mape_keras: 52.2568\n",
            "Epoch 43/50\n",
            "292/298 [============================>.] - ETA: 0s - loss: 0.0161 - mae: 0.0692 - mape_keras: 42.3175"
          ]
        },
        {
          "output_type": "stream",
          "name": "stderr",
          "text": [
            "WARNING:tensorflow:Early stopping conditioned on metric `val_mean_absolute_error` which is not available. Available metrics are: loss,mae,mape_keras,val_loss,val_mae,val_mape_keras\n"
          ]
        },
        {
          "output_type": "stream",
          "name": "stdout",
          "text": [
            "\b\b\b\b\b\b\b\b\b\b\b\b\b\b\b\b\b\b\b\b\b\b\b\b\b\b\b\b\b\b\b\b\b\b\b\b\b\b\b\b\b\b\b\b\b\b\b\b\b\b\b\b\b\b\b\b\b\b\b\b\b\b\b\b\b\b\b\b\b\b\b\b\b\b\b\b\b\b\b\b\b\b\b\b\b\b\b\b\b\b\b\b\b\b\b\b\b\b\b\b\b\r298/298 [==============================] - 2s 6ms/step - loss: 0.0160 - mae: 0.0691 - mape_keras: 42.3218 - val_loss: 0.0259 - val_mae: 0.0887 - val_mape_keras: 53.8994\n",
            "Epoch 44/50\n",
            "295/298 [============================>.] - ETA: 0s - loss: 0.0160 - mae: 0.0691 - mape_keras: 42.4085"
          ]
        },
        {
          "output_type": "stream",
          "name": "stderr",
          "text": [
            "WARNING:tensorflow:Early stopping conditioned on metric `val_mean_absolute_error` which is not available. Available metrics are: loss,mae,mape_keras,val_loss,val_mae,val_mape_keras\n"
          ]
        },
        {
          "output_type": "stream",
          "name": "stdout",
          "text": [
            "\b\b\b\b\b\b\b\b\b\b\b\b\b\b\b\b\b\b\b\b\b\b\b\b\b\b\b\b\b\b\b\b\b\b\b\b\b\b\b\b\b\b\b\b\b\b\b\b\b\b\b\b\b\b\b\b\b\b\b\b\b\b\b\b\b\b\b\b\b\b\b\b\b\b\b\b\b\b\b\b\b\b\b\b\b\b\b\b\b\b\b\b\b\b\b\b\b\b\b\b\b\r298/298 [==============================] - 2s 6ms/step - loss: 0.0159 - mae: 0.0691 - mape_keras: 42.4127 - val_loss: 0.0263 - val_mae: 0.0880 - val_mape_keras: 52.3351\n",
            "Epoch 45/50\n",
            "297/298 [============================>.] - ETA: 0s - loss: 0.0158 - mae: 0.0688 - mape_keras: 42.2024"
          ]
        },
        {
          "output_type": "stream",
          "name": "stderr",
          "text": [
            "WARNING:tensorflow:Early stopping conditioned on metric `val_mean_absolute_error` which is not available. Available metrics are: loss,mae,mape_keras,val_loss,val_mae,val_mape_keras\n"
          ]
        },
        {
          "output_type": "stream",
          "name": "stdout",
          "text": [
            "\b\b\b\b\b\b\b\b\b\b\b\b\b\b\b\b\b\b\b\b\b\b\b\b\b\b\b\b\b\b\b\b\b\b\b\b\b\b\b\b\b\b\b\b\b\b\b\b\b\b\b\b\b\b\b\b\b\b\b\b\b\b\b\b\b\b\b\b\b\b\b\b\b\b\b\b\b\b\b\b\b\b\b\b\b\b\b\b\b\b\b\b\b\b\b\b\b\b\b\b\b\r298/298 [==============================] - 2s 6ms/step - loss: 0.0158 - mae: 0.0688 - mape_keras: 42.2064 - val_loss: 0.0265 - val_mae: 0.0898 - val_mape_keras: 54.7966\n",
            "Epoch 46/50\n",
            "298/298 [==============================] - ETA: 0s - loss: 0.0157 - mae: 0.0687 - mape_keras: 42.2431"
          ]
        },
        {
          "output_type": "stream",
          "name": "stderr",
          "text": [
            "WARNING:tensorflow:Early stopping conditioned on metric `val_mean_absolute_error` which is not available. Available metrics are: loss,mae,mape_keras,val_loss,val_mae,val_mape_keras\n"
          ]
        },
        {
          "output_type": "stream",
          "name": "stdout",
          "text": [
            "\b\b\b\b\b\b\b\b\b\b\b\b\b\b\b\b\b\b\b\b\b\b\b\b\b\b\b\b\b\b\b\b\b\b\b\b\b\b\b\b\b\b\b\b\b\b\b\b\b\b\b\b\b\b\b\b\b\b\b\b\b\b\b\b\b\b\b\b\b\b\b\b\b\b\b\b\b\b\b\b\b\b\b\b\b\b\b\b\b\b\b\b\b\b\b\b\b\b\b\b\b\r298/298 [==============================] - 2s 7ms/step - loss: 0.0157 - mae: 0.0687 - mape_keras: 42.2431 - val_loss: 0.0263 - val_mae: 0.0880 - val_mape_keras: 52.3571\n",
            "Epoch 47/50\n",
            "290/298 [============================>.] - ETA: 0s - loss: 0.0157 - mae: 0.0686 - mape_keras: 42.3134"
          ]
        },
        {
          "output_type": "stream",
          "name": "stderr",
          "text": [
            "WARNING:tensorflow:Early stopping conditioned on metric `val_mean_absolute_error` which is not available. Available metrics are: loss,mae,mape_keras,val_loss,val_mae,val_mape_keras\n"
          ]
        },
        {
          "output_type": "stream",
          "name": "stdout",
          "text": [
            "\b\b\b\b\b\b\b\b\b\b\b\b\b\b\b\b\b\b\b\b\b\b\b\b\b\b\b\b\b\b\b\b\b\b\b\b\b\b\b\b\b\b\b\b\b\b\b\b\b\b\b\b\b\b\b\b\b\b\b\b\b\b\b\b\b\b\b\b\b\b\b\b\b\b\b\b\b\b\b\b\b\b\b\b\b\b\b\b\b\b\b\b\b\b\b\b\b\b\b\b\b\r298/298 [==============================] - 3s 9ms/step - loss: 0.0156 - mae: 0.0686 - mape_keras: 42.3933 - val_loss: 0.0267 - val_mae: 0.0889 - val_mape_keras: 52.9978\n",
            "Epoch 48/50\n",
            "292/298 [============================>.] - ETA: 0s - loss: 0.0155 - mae: 0.0683 - mape_keras: 42.2031"
          ]
        },
        {
          "output_type": "stream",
          "name": "stderr",
          "text": [
            "WARNING:tensorflow:Early stopping conditioned on metric `val_mean_absolute_error` which is not available. Available metrics are: loss,mae,mape_keras,val_loss,val_mae,val_mape_keras\n"
          ]
        },
        {
          "output_type": "stream",
          "name": "stdout",
          "text": [
            "\b\b\b\b\b\b\b\b\b\b\b\b\b\b\b\b\b\b\b\b\b\b\b\b\b\b\b\b\b\b\b\b\b\b\b\b\b\b\b\b\b\b\b\b\b\b\b\b\b\b\b\b\b\b\b\b\b\b\b\b\b\b\b\b\b\b\b\b\b\b\b\b\b\b\b\b\b\b\b\b\b\b\b\b\b\b\b\b\b\b\b\b\b\b\b\b\b\b\b\b\b\r298/298 [==============================] - 2s 6ms/step - loss: 0.0155 - mae: 0.0683 - mape_keras: 42.1759 - val_loss: 0.0263 - val_mae: 0.0907 - val_mape_keras: 56.0351\n",
            "Epoch 49/50\n",
            "295/298 [============================>.] - ETA: 0s - loss: 0.0154 - mae: 0.0680 - mape_keras: 42.0410"
          ]
        },
        {
          "output_type": "stream",
          "name": "stderr",
          "text": [
            "WARNING:tensorflow:Early stopping conditioned on metric `val_mean_absolute_error` which is not available. Available metrics are: loss,mae,mape_keras,val_loss,val_mae,val_mape_keras\n"
          ]
        },
        {
          "output_type": "stream",
          "name": "stdout",
          "text": [
            "\b\b\b\b\b\b\b\b\b\b\b\b\b\b\b\b\b\b\b\b\b\b\b\b\b\b\b\b\b\b\b\b\b\b\b\b\b\b\b\b\b\b\b\b\b\b\b\b\b\b\b\b\b\b\b\b\b\b\b\b\b\b\b\b\b\b\b\b\b\b\b\b\b\b\b\b\b\b\b\b\b\b\b\b\b\b\b\b\b\b\b\b\b\b\b\b\b\b\b\b\b\r298/298 [==============================] - 2s 6ms/step - loss: 0.0154 - mae: 0.0680 - mape_keras: 42.0217 - val_loss: 0.0268 - val_mae: 0.0921 - val_mape_keras: 57.4474\n",
            "Epoch 50/50\n",
            "293/298 [============================>.] - ETA: 0s - loss: 0.0153 - mae: 0.0680 - mape_keras: 42.1425"
          ]
        },
        {
          "output_type": "stream",
          "name": "stderr",
          "text": [
            "WARNING:tensorflow:Early stopping conditioned on metric `val_mean_absolute_error` which is not available. Available metrics are: loss,mae,mape_keras,val_loss,val_mae,val_mape_keras\n"
          ]
        },
        {
          "output_type": "stream",
          "name": "stdout",
          "text": [
            "\b\b\b\b\b\b\b\b\b\b\b\b\b\b\b\b\b\b\b\b\b\b\b\b\b\b\b\b\b\b\b\b\b\b\b\b\b\b\b\b\b\b\b\b\b\b\b\b\b\b\b\b\b\b\b\b\b\b\b\b\b\b\b\b\b\b\b\b\b\b\b\b\b\b\b\b\b\b\b\b\b\b\b\b\b\b\b\b\b\b\b\b\b\b\b\b\b\b\b\b\b\r298/298 [==============================] - 2s 6ms/step - loss: 0.0153 - mae: 0.0680 - mape_keras: 42.1645 - val_loss: 0.0268 - val_mae: 0.0920 - val_mape_keras: 57.2375\n"
          ]
        }
      ]
    },
    {
      "cell_type": "markdown",
      "metadata": {
        "id": "_1bLRaV1VRNx"
      },
      "source": [
        "# Evaluation model prediction over the test set"
      ]
    },
    {
      "cell_type": "code",
      "metadata": {
        "id": "4Zi71CQmVRNx"
      },
      "source": [
        "tr_info = get_metrics(model, transform(tr_idxs), tr_vals)\n",
        "te_info = get_metrics(model, transform(te_idxs), te_vals)"
      ],
      "execution_count": null,
      "outputs": []
    },
    {
      "cell_type": "code",
      "metadata": {
        "id": "_RT8lnIlXtsx"
      },
      "source": [
        "pprint({'train': tr_info, 'test': te_info})"
      ],
      "execution_count": null,
      "outputs": []
    }
  ]
}